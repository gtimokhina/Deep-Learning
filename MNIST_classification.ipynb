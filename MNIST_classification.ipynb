{
  "nbformat": 4,
  "nbformat_minor": 0,
  "metadata": {
    "colab": {
      "name": "Copy of Copy of Untitled12.ipynb",
      "provenance": [],
      "authorship_tag": "ABX9TyPXPE5+e5lGxZIcx14clFWk",
      "include_colab_link": true
    },
    "kernelspec": {
      "name": "python3",
      "display_name": "Python 3"
    },
    "accelerator": "GPU"
  },
  "cells": [
    {
      "cell_type": "markdown",
      "metadata": {
        "id": "view-in-github",
        "colab_type": "text"
      },
      "source": [
        "<a href=\"https://colab.research.google.com/github/gtimokhina/Deep-Learning/blob/master/MNIST_classification.ipynb\" target=\"_parent\"><img src=\"https://colab.research.google.com/assets/colab-badge.svg\" alt=\"Open In Colab\"/></a>"
      ]
    },
    {
      "cell_type": "markdown",
      "metadata": {
        "id": "asv8MkqmcKpv",
        "colab_type": "text"
      },
      "source": [
        "#MNIST classifier using only numpy, python and plain neural networks."
      ]
    },
    {
      "cell_type": "code",
      "metadata": {
        "id": "Iey47tSpcTVo",
        "colab_type": "code",
        "outputId": "d91cca7f-a690-42da-d2a9-c74d611d5ded",
        "colab": {
          "base_uri": "https://localhost:8080/",
          "height": 80
        }
      },
      "source": [
        "import numpy as np\n",
        "from keras.preprocessing.image import ImageDataGenerator\n",
        "from sklearn.metrics import classification_report,confusion_matrix\n",
        "from matplotlib import pyplot \n",
        "np.random.seed(1)"
      ],
      "execution_count": 1,
      "outputs": [
        {
          "output_type": "stream",
          "text": [
            "Using TensorFlow backend.\n"
          ],
          "name": "stderr"
        },
        {
          "output_type": "display_data",
          "data": {
            "text/html": [
              "<p style=\"color: red;\">\n",
              "The default version of TensorFlow in Colab will soon switch to TensorFlow 2.x.<br>\n",
              "We recommend you <a href=\"https://www.tensorflow.org/guide/migrate\" target=\"_blank\">upgrade</a> now \n",
              "or ensure your notebook will continue to use TensorFlow 1.x via the <code>%tensorflow_version 1.x</code> magic:\n",
              "<a href=\"https://colab.research.google.com/notebooks/tensorflow_version.ipynb\" target=\"_blank\">more info</a>.</p>\n"
            ],
            "text/plain": [
              "<IPython.core.display.HTML object>"
            ]
          },
          "metadata": {
            "tags": []
          }
        }
      ]
    },
    {
      "cell_type": "markdown",
      "metadata": {
        "id": "yZDNsKjpcqdY",
        "colab_type": "text"
      },
      "source": [
        "####Import MNIST dataset"
      ]
    },
    {
      "cell_type": "code",
      "metadata": {
        "id": "4x9W72wacz6b",
        "colab_type": "code",
        "colab": {}
      },
      "source": [
        "from keras.datasets import mnist\n",
        "(X_train, y_train), (X_test, y_test) = mnist.load_data()"
      ],
      "execution_count": 0,
      "outputs": []
    },
    {
      "cell_type": "markdown",
      "metadata": {
        "id": "8VFBG5xmdHed",
        "colab_type": "text"
      },
      "source": [
        "####Show few samples images from dataset"
      ]
    },
    {
      "cell_type": "code",
      "metadata": {
        "id": "YpEpu1vec05c",
        "colab_type": "code",
        "outputId": "7c4a38fc-0cda-40b8-90dd-59d4717f46e0",
        "colab": {
          "base_uri": "https://localhost:8080/",
          "height": 268
        }
      },
      "source": [
        "from matplotlib import pyplot \n",
        "for i in range(0, 9):  \n",
        "    pyplot.subplot(330 + 1 + i)  \n",
        "    pyplot.imshow(X_train[i], cmap=pyplot.get_cmap('gray')) \n",
        "pyplot.show()"
      ],
      "execution_count": 3,
      "outputs": [
        {
          "output_type": "display_data",
          "data": {
            "image/png": "[encoded data removed]",
            "text/plain": [
              "<Figure size 432x288 with 9 Axes>"
            ]
          },
          "metadata": {
            "tags": []
          }
        }
      ]
    },
    {
      "cell_type": "markdown",
      "metadata": {
        "id": "NjMG_iPmd1pt",
        "colab_type": "text"
      },
      "source": [
        "####Basic image augmentations using keras"
      ]
    },
    {
      "cell_type": "code",
      "metadata": {
        "id": "niKOs5iTd36z",
        "colab_type": "code",
        "colab": {}
      },
      "source": [
        "datagen = ImageDataGenerator(\n",
        "        featurewise_center = False,  # set input mean to 0 over the dataset\n",
        "        samplewise_center = False,  # set each sample mean to 0\n",
        "        featurewise_std_normalization = False,  # divide inputs by std of the dataset\n",
        "        samplewise_std_normalization = False,  # divide each input by its std\n",
        "        zca_whitening = False,  # apply ZCA whitening\n",
        "        rotation_range = 10,  # randomly rotate images in the range (degrees, 0 to 180)\n",
        "        zoom_range = 0.1, # Randomly zoom image \n",
        "        width_shift_range = 0.1,  # randomly shift images horizontally (fraction of total width)\n",
        "        height_shift_range = 0.1,  # randomly shift images vertically (fraction of total height)\n",
        "        horizontal_flip = False,  # randomly flip images\n",
        "        vertical_flip = False)  # randomly flip images\n"
      ],
      "execution_count": 0,
      "outputs": []
    },
    {
      "cell_type": "markdown",
      "metadata": {
        "id": "d8pnakk5lPih",
        "colab_type": "text"
      },
      "source": [
        "####Add 1,000 augmented images to our train dataset"
      ]
    },
    {
      "cell_type": "code",
      "metadata": {
        "id": "aJA8qy_Uky-y",
        "colab_type": "code",
        "outputId": "82e1a138-9435-42e2-d115-c0a2e7f179fc",
        "colab": {
          "base_uri": "https://localhost:8080/",
          "height": 105
        }
      },
      "source": [
        "# reshape the images\n",
        "x_train = X_train.reshape(X_train.shape[0], 1, 28, 28)\n",
        "datagen.fit(x_train)\n",
        "augment_size=1000\n",
        "# get transformed images\n",
        "randidx = np.random.randint(len(x_train), size=augment_size)\n",
        "x_augmented = x_train[randidx].copy()\n",
        "y_augmented = y_train[randidx].copy()\n",
        "x_augmented = datagen.flow(x_augmented, np.zeros(augment_size),batch_size=augment_size, shuffle=False).next()[0]\n",
        "# append augmented data to trainset\n",
        "X_train = np.concatenate((x_train, x_augmented))\n",
        "y_train = np.concatenate((y_train, y_augmented))"
      ],
      "execution_count": 5,
      "outputs": [
        {
          "output_type": "stream",
          "text": [
            "/usr/local/lib/python3.6/dist-packages/keras_preprocessing/image/image_data_generator.py:940: UserWarning: Expected input to be images (as Numpy array) following the data format convention \"channels_last\" (channels on axis 3), i.e. expected either 1, 3 or 4 channels on axis 3. However, it was passed an array with shape (60000, 1, 28, 28) (28 channels).\n",
            "  ' channels).')\n",
            "/usr/local/lib/python3.6/dist-packages/keras_preprocessing/image/numpy_array_iterator.py:127: UserWarning: NumpyArrayIterator is set to use the data format convention \"channels_last\" (channels on axis 3), i.e. expected either 1, 3, or 4 channels on axis 3. However, it was passed an array with shape (1000, 1, 28, 28) (28 channels).\n",
            "  str(self.x.shape[channels_axis]) + ' channels).')\n"
          ],
          "name": "stderr"
        }
      ]
    },
    {
      "cell_type": "markdown",
      "metadata": {
        "id": "Nd1CWSgilGeC",
        "colab_type": "text"
      },
      "source": [
        "####Check some augmented images"
      ]
    },
    {
      "cell_type": "code",
      "metadata": {
        "id": "57XRBed6lLDQ",
        "colab_type": "code",
        "outputId": "bdaca79a-145d-4257-cdaf-e0dedc65f81f",
        "colab": {
          "base_uri": "https://localhost:8080/",
          "height": 268
        }
      },
      "source": [
        "for i in range(0, 9):  \n",
        "    pyplot.subplot(330 + 1 + i)  \n",
        "    pyplot.imshow(x_augmented[i].reshape(28, 28), cmap=pyplot.get_cmap('gray')) \n",
        "pyplot.show()"
      ],
      "execution_count": 6,
      "outputs": [
        {
          "output_type": "display_data",
          "data": {
            "image/png": "[encoded data removed]",
            "text/plain": [
              "<Figure size 432x288 with 9 Axes>"
            ]
          },
          "metadata": {
            "tags": []
          }
        }
      ]
    },
    {
      "cell_type": "markdown",
      "metadata": {
        "id": "HBkHE55vene7",
        "colab_type": "text"
      },
      "source": [
        "####Reshape and normalize data to range 0-1 "
      ]
    },
    {
      "cell_type": "code",
      "metadata": {
        "id": "xt5Pr83FerIq",
        "colab_type": "code",
        "colab": {}
      },
      "source": [
        "train_images, train_labels = (X_train.reshape(len(X_train), 28*28) / 255, y_train)\n",
        "test_images = X_test.reshape(len(X_test), 28*28) / 255"
      ],
      "execution_count": 0,
      "outputs": []
    },
    {
      "cell_type": "markdown",
      "metadata": {
        "id": "6pmU-G8RfvQI",
        "colab_type": "text"
      },
      "source": [
        "####Prepare test and train labels by transforming the integer into a 10 element array with a 1 for the index of the class value, and 0 values for all other classes."
      ]
    },
    {
      "cell_type": "code",
      "metadata": {
        "id": "snTQeOYXf4Qz",
        "colab_type": "code",
        "colab": {}
      },
      "source": [
        "# train labels\n",
        "temp_labels = np.zeros((len(train_labels),10))\n",
        "for i,j in enumerate(train_labels):\n",
        "    temp_labels[i][j] = 1\n",
        "train_labels = temp_labels\n",
        "\n",
        "# test labels\n",
        "test_labels = np.zeros((len(y_test),10))\n",
        "for i,j in enumerate(y_test):\n",
        "    test_labels[i][j] = 1"
      ],
      "execution_count": 0,
      "outputs": []
    },
    {
      "cell_type": "markdown",
      "metadata": {
        "id": "Ja6FsWP1gFVH",
        "colab_type": "text"
      },
      "source": [
        "####Define RELU activation function for hidden layers"
      ]
    },
    {
      "cell_type": "code",
      "metadata": {
        "id": "UVBraBlFgJo4",
        "colab_type": "code",
        "colab": {}
      },
      "source": [
        "def relu(x):\n",
        "    return (x > 0) * x "
      ],
      "execution_count": 0,
      "outputs": []
    },
    {
      "cell_type": "markdown",
      "metadata": {
        "id": "5tjN4ZwSgQso",
        "colab_type": "text"
      },
      "source": [
        "####Define RELU derivative"
      ]
    },
    {
      "cell_type": "code",
      "metadata": {
        "id": "A0e_VFFIgTwX",
        "colab_type": "code",
        "colab": {}
      },
      "source": [
        "def relu_derivative(x):\n",
        "    return  (x > 0)  "
      ],
      "execution_count": 0,
      "outputs": []
    },
    {
      "cell_type": "markdown",
      "metadata": {
        "id": "OD6sMblOgYZA",
        "colab_type": "text"
      },
      "source": [
        "####Define SOFTMAX activation function for the output layer"
      ]
    },
    {
      "cell_type": "code",
      "metadata": {
        "id": "JGOCgoZ7geNx",
        "colab_type": "code",
        "colab": {}
      },
      "source": [
        "def softmax(x):\n",
        "    temp = np.exp(x)\n",
        "    return temp / np.sum(temp, axis=1, keepdims = True)"
      ],
      "execution_count": 0,
      "outputs": []
    },
    {
      "cell_type": "markdown",
      "metadata": {
        "id": "nbjA9pIRgpqu",
        "colab_type": "text"
      },
      "source": [
        "####Define learning rate as 2, the first hidden layer size as 100, the second hidden layer size as 64\n",
        "Number of pixels as 784, number of labels as 10"
      ]
    },
    {
      "cell_type": "code",
      "metadata": {
        "id": "eQf9bn6Pgsx9",
        "colab_type": "code",
        "colab": {}
      },
      "source": [
        "alpha, hidden_size_1, hidden_size_2 = (2, 100, 64)\n",
        "pixels_image, num_of_labels = (784, 10)"
      ],
      "execution_count": 0,
      "outputs": []
    },
    {
      "cell_type": "markdown",
      "metadata": {
        "id": "WRc-WkX8ojI9",
        "colab_type": "text"
      },
      "source": [
        "####Define batch size as 100 for mini batch gradient descent"
      ]
    },
    {
      "cell_type": "code",
      "metadata": {
        "id": "xhiQb4QloyTi",
        "colab_type": "code",
        "colab": {}
      },
      "source": [
        "batch_size = 100"
      ],
      "execution_count": 0,
      "outputs": []
    },
    {
      "cell_type": "markdown",
      "metadata": {
        "id": "JFEB5uExhXmP",
        "colab_type": "text"
      },
      "source": [
        "####Initialize weights randomly using formula w = np.random.randn(n) * sqrt(2.0/n)"
      ]
    },
    {
      "cell_type": "code",
      "metadata": {
        "id": "3Ekb0b9bha05",
        "colab_type": "code",
        "colab": {}
      },
      "source": [
        "weight_0_1 = np.random.randn(pixels_image,hidden_size_1) * np.sqrt(2.0/pixels_image)\n",
        "weight_1_2 = np.random.randn(hidden_size_1,hidden_size_2) * np.sqrt(2.0/hidden_size_1)\n",
        "weight_2_3 = np.random.randn(hidden_size_2,num_of_labels) * np.sqrt(2.0/hidden_size_2)"
      ],
      "execution_count": 0,
      "outputs": []
    },
    {
      "cell_type": "markdown",
      "metadata": {
        "id": "yDWwlk_0hrRl",
        "colab_type": "text"
      },
      "source": [
        "####Training and results. Do 200 iterations, print only every 10th iteration results. I did not see much improvements after 200 iterations"
      ]
    },
    {
      "cell_type": "code",
      "metadata": {
        "id": "7GI1fNzohxS_",
        "colab_type": "code",
        "outputId": "fb4d58b9-66e8-48cd-dbe4-277a4ea3a3b8",
        "colab": {
          "base_uri": "https://localhost:8080/",
          "height": 1000
        }
      },
      "source": [
        "iterations = 200\n",
        "for j in range(iterations):\n",
        "    train_correct_count = 0\n",
        "    # do mini batches\n",
        "    for i in range(int(len(train_images) / batch_size)):\n",
        "        batch_start, batch_end = ((i * batch_size), ((i + 1) * batch_size))\n",
        "\n",
        "        ### FORWARD PROPAGATION\n",
        "        layer_0 = train_images[batch_start:batch_end]\n",
        "   \n",
        "        # hidden layer 1\n",
        "        layer_1 = relu(np.dot(layer_0,weight_0_1))\n",
        "        # apply dropout rate for layer 1 as 50%\n",
        "        dropout_mask_1 = np.random.randint(2, size = layer_1.shape)\n",
        "        layer_1 *= dropout_mask_1 * 2\n",
        "        \n",
        "        # hidden layer 2\n",
        "        layer_2 = relu(np.dot(layer_1,weight_1_2))\n",
        "        # apply dropout rate for layer 2 as 20%\n",
        "        dropout_mask_2 = np.random.binomial(1, 0.2, size=layer_2.shape) / 0.2 \n",
        "        layer_2 *= dropout_mask_2 \n",
        "        \n",
        "        # last ouput layer\n",
        "        layer_3 = softmax(np.dot(layer_2,weight_2_3))\n",
        "        \n",
        "        # calulate correct answers\n",
        "        for k in range(batch_size):\n",
        "            train_correct_count += int(np.argmax(layer_3[k:k+1]) == np.argmax(train_labels[batch_start+k:batch_start+k+1]))\n",
        "            \n",
        "        ### BACKPROPAGATION\n",
        "        # calculate each layer delta\n",
        "        layer_3_delta = (layer_3 - train_labels[batch_start:batch_end]) / (batch_size * layer_3.shape[0])\n",
        "        layer_2_delta = np.dot(layer_3_delta,weight_2_3.T) * relu_derivative(layer_2)\n",
        "        layer_2_delta *= dropout_mask_2\n",
        "        layer_1_delta = np.dot(layer_2_delta,weight_1_2.T) * relu_derivative(layer_1)\n",
        "        layer_1_delta *= dropout_mask_1\n",
        "        \n",
        "        # recalculate weights\n",
        "        weight_2_3 -= alpha * layer_2.T.dot(layer_3_delta)\n",
        "        weight_1_2 -= alpha * layer_1.T.dot(layer_2_delta)\n",
        "        weight_0_1 -= alpha * layer_0.T.dot(layer_1_delta)\n",
        "              \n",
        "    # test results\n",
        "    test_correct_count = 0\n",
        "    test_predictions = [] \n",
        "    for i in range(len(test_images)):\n",
        "        layer_0 = test_images[i:i+1]\n",
        "        layer_1 = relu(np.dot(layer_0, weight_0_1))\n",
        "        layer_2 = np.dot(layer_1, weight_1_2)\n",
        "        layer_3 = np.dot(layer_2, weight_2_3)\n",
        "        \n",
        "        test_correct_count += int(np.argmax(layer_3) == np.argmax(test_labels[i:i+1]))\n",
        "        test_predictions.append(np.argmax(layer_3))\n",
        "        \n",
        "    # print only every 10th result\n",
        "    if (j % 10 == 0):\n",
        "        print(\"\\n\"+ \"Iteration:\" + str(j) + \\\n",
        "         \"; Test Accuracy:\" + str(test_correct_count/float(len(test_images))) + \\\n",
        "         \"; Train Accuracy:\" + str(train_correct_count/float(len(train_images))))\n",
        "        print('Confusion Matrix: \\n', confusion_matrix(y_test,test_predictions))\n",
        "        print('Classification metrics: \\n', classification_report(y_test,test_predictions))"
      ],
      "execution_count": 15,
      "outputs": [
        {
          "output_type": "stream",
          "text": [
            "\n",
            "Iteration:0; Test Accuracy:0.7478; Train Accuracy:0.25881967213114754\n",
            "Confusion Matrix: \n",
            " [[ 923    0    2    6    0   20   15    5    0    9]\n",
            " [   0 1124    2    1    0    2    5    1    0    0]\n",
            " [  34  107  740   36   12    1   39   45    5   13]\n",
            " [   7   60   24  834    1   23    5   36    5   15]\n",
            " [   3   14    3    1  518    0   25    6    4  408]\n",
            " [  44   34   14  167   20  494   46   22    9   42]\n",
            " [  30    8   71    0    4   22  818    3    0    2]\n",
            " [   5   50   12    2    3    0    0  926    0   30]\n",
            " [  24  187   15  177   30   95   30   28  293   95]\n",
            " [  20   20    4   11   41    5    4   95    1  808]]\n",
            "Classification metrics: \n",
            "               precision    recall  f1-score   support\n",
            "\n",
            "           0       0.85      0.94      0.89       980\n",
            "           1       0.70      0.99      0.82      1135\n",
            "           2       0.83      0.72      0.77      1032\n",
            "           3       0.68      0.83      0.74      1010\n",
            "           4       0.82      0.53      0.64       982\n",
            "           5       0.75      0.55      0.64       892\n",
            "           6       0.83      0.85      0.84       958\n",
            "           7       0.79      0.90      0.84      1028\n",
            "           8       0.92      0.30      0.45       974\n",
            "           9       0.57      0.80      0.66      1009\n",
            "\n",
            "    accuracy                           0.75     10000\n",
            "   macro avg       0.77      0.74      0.73     10000\n",
            "weighted avg       0.77      0.75      0.73     10000\n",
            "\n",
            "\n",
            "Iteration:10; Test Accuracy:0.9142; Train Accuracy:0.7583770491803279\n",
            "Confusion Matrix: \n",
            " [[ 967    0    0    1    0    1    6    1    4    0]\n",
            " [   0 1112    1    3    1    1    5    1   11    0]\n",
            " [  13    8  916   18   14    0   14   18   29    2]\n",
            " [   7    1   17  921    0   27    2   19   12    4]\n",
            " [   1    2    2    0  942    0   11    0    6   18]\n",
            " [  17    2    0   37   12  774   18    7   22    3]\n",
            " [  15    4    1    1    9   18  908    1    1    0]\n",
            " [   5   17   22    3    8    1    0  941    1   30]\n",
            " [  13   11    7   15   25   30   15   11  840    7]\n",
            " [  12    6    1   13  104   14    1   30    7  821]]\n",
            "Classification metrics: \n",
            "               precision    recall  f1-score   support\n",
            "\n",
            "           0       0.92      0.99      0.95       980\n",
            "           1       0.96      0.98      0.97      1135\n",
            "           2       0.95      0.89      0.92      1032\n",
            "           3       0.91      0.91      0.91      1010\n",
            "           4       0.84      0.96      0.90       982\n",
            "           5       0.89      0.87      0.88       892\n",
            "           6       0.93      0.95      0.94       958\n",
            "           7       0.91      0.92      0.91      1028\n",
            "           8       0.90      0.86      0.88       974\n",
            "           9       0.93      0.81      0.87      1009\n",
            "\n",
            "    accuracy                           0.91     10000\n",
            "   macro avg       0.91      0.91      0.91     10000\n",
            "weighted avg       0.92      0.91      0.91     10000\n",
            "\n",
            "\n",
            "Iteration:20; Test Accuracy:0.9346; Train Accuracy:0.8069016393442623\n",
            "Confusion Matrix: \n",
            " [[ 967    0    0    1    0    1    6    1    4    0]\n",
            " [   0 1115    1    4    1    1    4    1    8    0]\n",
            " [  13    5  935   13   12    1   10   16   25    2]\n",
            " [   2    1   12  939    0   27    1   15   10    3]\n",
            " [   1    1    3    0  942    0   14    0    6   15]\n",
            " [  10    2    0   20    2  829   14    2    8    5]\n",
            " [   7    4    0    0   10    9  925    0    3    0]\n",
            " [   2   15   20    2    7    0    0  955    1   26]\n",
            " [  13   11    5   11   10   13   12    7  884    8]\n",
            " [  11    5    0   11   87   13    1   16   10  855]]\n",
            "Classification metrics: \n",
            "               precision    recall  f1-score   support\n",
            "\n",
            "           0       0.94      0.99      0.96       980\n",
            "           1       0.96      0.98      0.97      1135\n",
            "           2       0.96      0.91      0.93      1032\n",
            "           3       0.94      0.93      0.93      1010\n",
            "           4       0.88      0.96      0.92       982\n",
            "           5       0.93      0.93      0.93       892\n",
            "           6       0.94      0.97      0.95       958\n",
            "           7       0.94      0.93      0.94      1028\n",
            "           8       0.92      0.91      0.91       974\n",
            "           9       0.94      0.85      0.89      1009\n",
            "\n",
            "    accuracy                           0.93     10000\n",
            "   macro avg       0.93      0.93      0.93     10000\n",
            "weighted avg       0.94      0.93      0.93     10000\n",
            "\n",
            "\n",
            "Iteration:30; Test Accuracy:0.9414; Train Accuracy:0.8260983606557377\n",
            "Confusion Matrix: \n",
            " [[ 968    0    0    1    0    0    7    1    3    0]\n",
            " [   0 1118    2    3    0    0    4    1    7    0]\n",
            " [  10    3  954    9    7    0   12   14   22    1]\n",
            " [   6    0   12  940    1   22    0   13   13    3]\n",
            " [   1    1    2    0  949    0   14    0    3   12]\n",
            " [  10    1    1   12    2  836   18    2    4    6]\n",
            " [   8    3    0    0    9    6  929    0    3    0]\n",
            " [   3   13   21    3    4    0    0  961    2   21]\n",
            " [  11    8    4    5    9   11   14    6  900    6]\n",
            " [  10    4    0   11   92   10    1   12   10  859]]\n",
            "Classification metrics: \n",
            "               precision    recall  f1-score   support\n",
            "\n",
            "           0       0.94      0.99      0.96       980\n",
            "           1       0.97      0.99      0.98      1135\n",
            "           2       0.96      0.92      0.94      1032\n",
            "           3       0.96      0.93      0.94      1010\n",
            "           4       0.88      0.97      0.92       982\n",
            "           5       0.94      0.94      0.94       892\n",
            "           6       0.93      0.97      0.95       958\n",
            "           7       0.95      0.93      0.94      1028\n",
            "           8       0.93      0.92      0.93       974\n",
            "           9       0.95      0.85      0.90      1009\n",
            "\n",
            "    accuracy                           0.94     10000\n",
            "   macro avg       0.94      0.94      0.94     10000\n",
            "weighted avg       0.94      0.94      0.94     10000\n",
            "\n",
            "\n",
            "Iteration:40; Test Accuracy:0.9482; Train Accuracy:0.8390655737704918\n",
            "Confusion Matrix: \n",
            " [[ 970    0    0    1    0    0    4    1    4    0]\n",
            " [   0 1118    2    3    0    0    3    1    8    0]\n",
            " [  15    3  948    7    7    0    9   19   22    2]\n",
            " [   5    0   11  950    0   18    0   13   10    3]\n",
            " [   1    1    3    0  953    0   11    0    3   10]\n",
            " [   9    1    1    8    0  849   14    2    4    4]\n",
            " [   9    3    0    0    9    7  928    0    2    0]\n",
            " [   4   14   17    3    3    0    0  971    1   15]\n",
            " [  11    3    2    8    7   11   11    6  904   11]\n",
            " [  11    4    0    9   64   14    0   10    6  891]]\n",
            "Classification metrics: \n",
            "               precision    recall  f1-score   support\n",
            "\n",
            "           0       0.94      0.99      0.96       980\n",
            "           1       0.97      0.99      0.98      1135\n",
            "           2       0.96      0.92      0.94      1032\n",
            "           3       0.96      0.94      0.95      1010\n",
            "           4       0.91      0.97      0.94       982\n",
            "           5       0.94      0.95      0.95       892\n",
            "           6       0.95      0.97      0.96       958\n",
            "           7       0.95      0.94      0.95      1028\n",
            "           8       0.94      0.93      0.93       974\n",
            "           9       0.95      0.88      0.92      1009\n",
            "\n",
            "    accuracy                           0.95     10000\n",
            "   macro avg       0.95      0.95      0.95     10000\n",
            "weighted avg       0.95      0.95      0.95     10000\n",
            "\n",
            "\n",
            "Iteration:50; Test Accuracy:0.9507; Train Accuracy:0.8488196721311475\n",
            "Confusion Matrix: \n",
            " [[ 969    0    0    1    1    0    4    1    4    0]\n",
            " [   0 1119    1    4    0    0    3    1    7    0]\n",
            " [  13    3  953    9    5    0   10   18   20    1]\n",
            " [   4    0    9  957    0   19    0   12    7    2]\n",
            " [   1    1    4    0  953    0   13    0    2    8]\n",
            " [   7    1    1    8    0  851   13    2    5    4]\n",
            " [   8    3    0    0    6    5  933    0    3    0]\n",
            " [   3   14   12    5    4    0    0  977    1   12]\n",
            " [   8    3    2    6    7    7   13    6  913    9]\n",
            " [  10    4    0    9   71   12    1   10   10  882]]\n",
            "Classification metrics: \n",
            "               precision    recall  f1-score   support\n",
            "\n",
            "           0       0.95      0.99      0.97       980\n",
            "           1       0.97      0.99      0.98      1135\n",
            "           2       0.97      0.92      0.95      1032\n",
            "           3       0.96      0.95      0.95      1010\n",
            "           4       0.91      0.97      0.94       982\n",
            "           5       0.95      0.95      0.95       892\n",
            "           6       0.94      0.97      0.96       958\n",
            "           7       0.95      0.95      0.95      1028\n",
            "           8       0.94      0.94      0.94       974\n",
            "           9       0.96      0.87      0.92      1009\n",
            "\n",
            "    accuracy                           0.95     10000\n",
            "   macro avg       0.95      0.95      0.95     10000\n",
            "weighted avg       0.95      0.95      0.95     10000\n",
            "\n",
            "\n",
            "Iteration:60; Test Accuracy:0.9533; Train Accuracy:0.8517868852459016\n",
            "Confusion Matrix: \n",
            " [[ 968    0    1    0    0    0    6    1    4    0]\n",
            " [   0 1124    2    1    0    0    4    0    4    0]\n",
            " [  12    5  955    8    5    0    8   19   19    1]\n",
            " [   5    0    7  954    0   22    0   12   10    0]\n",
            " [   1    1    3    0  953    0   14    1    2    7]\n",
            " [   7    1    1    5    0  861    9    2    3    3]\n",
            " [   8    3    0    0    8    6  932    0    1    0]\n",
            " [   3   14   12    4    4    0    0  980    1   10]\n",
            " [   8    3    2    5    8    8   11    7  918    4]\n",
            " [   9    4    0    8   65   11    0   15    9  888]]\n",
            "Classification metrics: \n",
            "               precision    recall  f1-score   support\n",
            "\n",
            "           0       0.95      0.99      0.97       980\n",
            "           1       0.97      0.99      0.98      1135\n",
            "           2       0.97      0.93      0.95      1032\n",
            "           3       0.97      0.94      0.96      1010\n",
            "           4       0.91      0.97      0.94       982\n",
            "           5       0.95      0.97      0.96       892\n",
            "           6       0.95      0.97      0.96       958\n",
            "           7       0.95      0.95      0.95      1028\n",
            "           8       0.95      0.94      0.94       974\n",
            "           9       0.97      0.88      0.92      1009\n",
            "\n",
            "    accuracy                           0.95     10000\n",
            "   macro avg       0.95      0.95      0.95     10000\n",
            "weighted avg       0.95      0.95      0.95     10000\n",
            "\n",
            "\n",
            "Iteration:70; Test Accuracy:0.9547; Train Accuracy:0.8567540983606557\n",
            "Confusion Matrix: \n",
            " [[ 969    0    1    0    0    0    5    1    4    0]\n",
            " [   0 1125    2    2    0    0    3    0    3    0]\n",
            " [  10    4  956    8    5    1    8   18   21    1]\n",
            " [   2    0    7  965    0   18    1    9    8    0]\n",
            " [   1    1    3    0  955    0   14    0    2    6]\n",
            " [   5    1    0    8    0  861   10    2    3    2]\n",
            " [   7    3    0    0    8    6  932    0    2    0]\n",
            " [   3   13   10    5    3    1    0  980    2   11]\n",
            " [   8    2    3    5    8    9   11    7  918    3]\n",
            " [   6    4    0    6   72   14    1    9   11  886]]\n",
            "Classification metrics: \n",
            "               precision    recall  f1-score   support\n",
            "\n",
            "           0       0.96      0.99      0.97       980\n",
            "           1       0.98      0.99      0.98      1135\n",
            "           2       0.97      0.93      0.95      1032\n",
            "           3       0.97      0.96      0.96      1010\n",
            "           4       0.91      0.97      0.94       982\n",
            "           5       0.95      0.97      0.96       892\n",
            "           6       0.95      0.97      0.96       958\n",
            "           7       0.96      0.95      0.95      1028\n",
            "           8       0.94      0.94      0.94       974\n",
            "           9       0.97      0.88      0.92      1009\n",
            "\n",
            "    accuracy                           0.95     10000\n",
            "   macro avg       0.95      0.95      0.95     10000\n",
            "weighted avg       0.96      0.95      0.95     10000\n",
            "\n",
            "\n",
            "Iteration:80; Test Accuracy:0.9556; Train Accuracy:0.8593114754098361\n",
            "Confusion Matrix: \n",
            " [[ 968    2    0    0    0    1    5    1    3    0]\n",
            " [   0 1122    2    2    0    0    3    1    5    0]\n",
            " [   8    4  962    5    5    1    9   18   19    1]\n",
            " [   1    0    7  959    0   25    0   11    7    0]\n",
            " [   1    1    4    0  954    0   14    0    2    6]\n",
            " [   5    1    1    4    0  861   11    2    4    3]\n",
            " [   6    3    0    0    8    6  932    0    3    0]\n",
            " [   3   10   12    4    3    0    0  982    3   11]\n",
            " [   7    3    2    7    7    5   13    6  917    7]\n",
            " [   6    4    0    5   59   15    1   10   10  899]]\n",
            "Classification metrics: \n",
            "               precision    recall  f1-score   support\n",
            "\n",
            "           0       0.96      0.99      0.98       980\n",
            "           1       0.98      0.99      0.98      1135\n",
            "           2       0.97      0.93      0.95      1032\n",
            "           3       0.97      0.95      0.96      1010\n",
            "           4       0.92      0.97      0.95       982\n",
            "           5       0.94      0.97      0.95       892\n",
            "           6       0.94      0.97      0.96       958\n",
            "           7       0.95      0.96      0.95      1028\n",
            "           8       0.94      0.94      0.94       974\n",
            "           9       0.97      0.89      0.93      1009\n",
            "\n",
            "    accuracy                           0.96     10000\n",
            "   macro avg       0.96      0.96      0.96     10000\n",
            "weighted avg       0.96      0.96      0.96     10000\n",
            "\n",
            "\n",
            "Iteration:90; Test Accuracy:0.9547; Train Accuracy:0.8645409836065574\n",
            "Confusion Matrix: \n",
            " [[ 968    1    0    1    0    0    6    1    3    0]\n",
            " [   0 1124    1    2    0    1    3    1    3    0]\n",
            " [  10    5  961    6    6    0    9   17   17    1]\n",
            " [   2    0    7  964    0   18    0   11    8    0]\n",
            " [   1    1    3    0  957    0   14    1    2    3]\n",
            " [   6    1    0    4    0  861   12    2    4    2]\n",
            " [   8    3    0    0    7    6  932    0    2    0]\n",
            " [   3   11    9    5    2    1    0  986    2    9]\n",
            " [   7    3    2    6    8    8   11    6  919    4]\n",
            " [   8    4    0    5   84   12    1   10   10  875]]\n",
            "Classification metrics: \n",
            "               precision    recall  f1-score   support\n",
            "\n",
            "           0       0.96      0.99      0.97       980\n",
            "           1       0.97      0.99      0.98      1135\n",
            "           2       0.98      0.93      0.95      1032\n",
            "           3       0.97      0.95      0.96      1010\n",
            "           4       0.90      0.97      0.94       982\n",
            "           5       0.95      0.97      0.96       892\n",
            "           6       0.94      0.97      0.96       958\n",
            "           7       0.95      0.96      0.96      1028\n",
            "           8       0.95      0.94      0.95       974\n",
            "           9       0.98      0.87      0.92      1009\n",
            "\n",
            "    accuracy                           0.95     10000\n",
            "   macro avg       0.95      0.95      0.95     10000\n",
            "weighted avg       0.96      0.95      0.95     10000\n",
            "\n",
            "\n",
            "Iteration:100; Test Accuracy:0.9575; Train Accuracy:0.8668852459016393\n",
            "Confusion Matrix: \n",
            " [[ 967    1    0    1    0    0    7    1    3    0]\n",
            " [   0 1123    2    1    0    1    4    1    3    0]\n",
            " [   7    3  973    6    6    0    8   16   12    1]\n",
            " [   0    0    9  961    0   18    0   12    8    2]\n",
            " [   1    1    3    0  955    0   14    1    2    5]\n",
            " [   5    1    1    5    0  863    9    2    4    2]\n",
            " [   6    3    0    0    7    6  933    0    3    0]\n",
            " [   3    9   12    3    3    1    0  988    2    7]\n",
            " [   7    3    2    6    8    6   14    5  914    9]\n",
            " [   6    4    0    3   67   11    1    8   11  898]]\n",
            "Classification metrics: \n",
            "               precision    recall  f1-score   support\n",
            "\n",
            "           0       0.97      0.99      0.98       980\n",
            "           1       0.98      0.99      0.98      1135\n",
            "           2       0.97      0.94      0.96      1032\n",
            "           3       0.97      0.95      0.96      1010\n",
            "           4       0.91      0.97      0.94       982\n",
            "           5       0.95      0.97      0.96       892\n",
            "           6       0.94      0.97      0.96       958\n",
            "           7       0.96      0.96      0.96      1028\n",
            "           8       0.95      0.94      0.94       974\n",
            "           9       0.97      0.89      0.93      1009\n",
            "\n",
            "    accuracy                           0.96     10000\n",
            "   macro avg       0.96      0.96      0.96     10000\n",
            "weighted avg       0.96      0.96      0.96     10000\n",
            "\n",
            "\n",
            "Iteration:110; Test Accuracy:0.9553; Train Accuracy:0.8714918032786885\n",
            "Confusion Matrix: \n",
            " [[ 970    1    0    1    0    0    4    1    3    0]\n",
            " [   0 1120    3    2    0    1    3    1    5    0]\n",
            " [   8    2  968    6    8    0    9   13   17    1]\n",
            " [   1    0    9  951    0   25    1   11   10    2]\n",
            " [   1    1    3    0  954    0   14    1    2    6]\n",
            " [   5    1    0    5    1  860   12    2    4    2]\n",
            " [   8    3    0    0    6    6  933    0    2    0]\n",
            " [   3    9   12    3    3    1    0  990    1    6]\n",
            " [   6    2    3    7    7    8   12    4  917    8]\n",
            " [   6    4    1    3   74   12    1    8   10  890]]\n",
            "Classification metrics: \n",
            "               precision    recall  f1-score   support\n",
            "\n",
            "           0       0.96      0.99      0.98       980\n",
            "           1       0.98      0.99      0.98      1135\n",
            "           2       0.97      0.94      0.95      1032\n",
            "           3       0.97      0.94      0.96      1010\n",
            "           4       0.91      0.97      0.94       982\n",
            "           5       0.94      0.96      0.95       892\n",
            "           6       0.94      0.97      0.96       958\n",
            "           7       0.96      0.96      0.96      1028\n",
            "           8       0.94      0.94      0.94       974\n",
            "           9       0.97      0.88      0.93      1009\n",
            "\n",
            "    accuracy                           0.96     10000\n",
            "   macro avg       0.96      0.96      0.95     10000\n",
            "weighted avg       0.96      0.96      0.96     10000\n",
            "\n",
            "\n",
            "Iteration:120; Test Accuracy:0.9571; Train Accuracy:0.8725081967213115\n",
            "Confusion Matrix: \n",
            " [[ 971    1    0    1    0    1    3    1    2    0]\n",
            " [   0 1121    2    3    0    1    3    1    4    0]\n",
            " [   8    4  965    7    6    0    9   17   15    1]\n",
            " [   2    0    6  958    0   22    1   11    8    2]\n",
            " [   1    1    3    0  953    0   14    1    2    7]\n",
            " [   7    1    0    5    0  859   12    2    4    2]\n",
            " [   8    3    0    0    6    6  933    0    2    0]\n",
            " [   3    9   10    4    2    1    0  992    1    6]\n",
            " [   7    3    1    6    7    7   11    4  920    8]\n",
            " [   5    4    1    4   67   12    1    8    8  899]]\n",
            "Classification metrics: \n",
            "               precision    recall  f1-score   support\n",
            "\n",
            "           0       0.96      0.99      0.97       980\n",
            "           1       0.98      0.99      0.98      1135\n",
            "           2       0.98      0.94      0.96      1032\n",
            "           3       0.97      0.95      0.96      1010\n",
            "           4       0.92      0.97      0.94       982\n",
            "           5       0.94      0.96      0.95       892\n",
            "           6       0.95      0.97      0.96       958\n",
            "           7       0.96      0.96      0.96      1028\n",
            "           8       0.95      0.94      0.95       974\n",
            "           9       0.97      0.89      0.93      1009\n",
            "\n",
            "    accuracy                           0.96     10000\n",
            "   macro avg       0.96      0.96      0.96     10000\n",
            "weighted avg       0.96      0.96      0.96     10000\n",
            "\n",
            "\n",
            "Iteration:130; Test Accuracy:0.9582; Train Accuracy:0.8758852459016393\n",
            "Confusion Matrix: \n",
            " [[ 970    2    0    1    0    0    2    1    4    0]\n",
            " [   0 1121    2    3    0    1    3    1    4    0]\n",
            " [   9    3  964    7    6    0    9   19   15    0]\n",
            " [   2    0    4  957    0   26    1   11    7    2]\n",
            " [   1    1    3    0  955    0   11    1    3    7]\n",
            " [   6    1    0    4    1  861   12    2    3    2]\n",
            " [   8    3    0    0    7    7  932    0    1    0]\n",
            " [   3    9    9    4    2    1    0  993    1    6]\n",
            " [   6    2    2    7    6    7   11    4  920    9]\n",
            " [   7    4    0    4   55   13    1   10    6  909]]\n",
            "Classification metrics: \n",
            "               precision    recall  f1-score   support\n",
            "\n",
            "           0       0.96      0.99      0.97       980\n",
            "           1       0.98      0.99      0.98      1135\n",
            "           2       0.98      0.93      0.96      1032\n",
            "           3       0.97      0.95      0.96      1010\n",
            "           4       0.93      0.97      0.95       982\n",
            "           5       0.94      0.97      0.95       892\n",
            "           6       0.95      0.97      0.96       958\n",
            "           7       0.95      0.97      0.96      1028\n",
            "           8       0.95      0.94      0.95       974\n",
            "           9       0.97      0.90      0.94      1009\n",
            "\n",
            "    accuracy                           0.96     10000\n",
            "   macro avg       0.96      0.96      0.96     10000\n",
            "weighted avg       0.96      0.96      0.96     10000\n",
            "\n",
            "\n",
            "Iteration:140; Test Accuracy:0.9594; Train Accuracy:0.8743770491803279\n",
            "Confusion Matrix: \n",
            " [[ 970    1    0    1    0    0    5    1    2    0]\n",
            " [   0 1122    2    3    0    1    3    1    3    0]\n",
            " [   8    3  976    7    6    0    8   12   12    0]\n",
            " [   0    0    6  964    0   22    1    9    8    0]\n",
            " [   1    1    3    0  957    0   13    1    2    4]\n",
            " [   6    1    0    6    1  857   15    2    2    2]\n",
            " [   8    3    0    0    6    4  935    0    2    0]\n",
            " [   3    8   11    4    2    1    0  993    1    5]\n",
            " [   6    2    2    7    7    7   11    5  923    4]\n",
            " [   6    4    1    5   68   11    1    7    9  897]]\n",
            "Classification metrics: \n",
            "               precision    recall  f1-score   support\n",
            "\n",
            "           0       0.96      0.99      0.98       980\n",
            "           1       0.98      0.99      0.98      1135\n",
            "           2       0.98      0.95      0.96      1032\n",
            "           3       0.97      0.95      0.96      1010\n",
            "           4       0.91      0.97      0.94       982\n",
            "           5       0.95      0.96      0.95       892\n",
            "           6       0.94      0.98      0.96       958\n",
            "           7       0.96      0.97      0.96      1028\n",
            "           8       0.96      0.95      0.95       974\n",
            "           9       0.98      0.89      0.93      1009\n",
            "\n",
            "    accuracy                           0.96     10000\n",
            "   macro avg       0.96      0.96      0.96     10000\n",
            "weighted avg       0.96      0.96      0.96     10000\n",
            "\n",
            "\n",
            "Iteration:150; Test Accuracy:0.9605; Train Accuracy:0.8784262295081967\n",
            "Confusion Matrix: \n",
            " [[ 970    1    0    1    0    0    4    1    3    0]\n",
            " [   0 1119    2    3    0    1    2    1    7    0]\n",
            " [   6    4  974    8    5    0    9   13   13    0]\n",
            " [   1    0    5  969    0   20    1    8    5    1]\n",
            " [   1    1    2    0  956    0   12    1    2    7]\n",
            " [   5    1    0    4    1  858   15    2    4    2]\n",
            " [   6    3    0    0    6    5  935    0    3    0]\n",
            " [   3    7   10    5    3    1    0  989    2    8]\n",
            " [   7    2    1    7    8   10    8    4  921    6]\n",
            " [   6    4    0    4   53   10    1    8    9  914]]\n",
            "Classification metrics: \n",
            "               precision    recall  f1-score   support\n",
            "\n",
            "           0       0.97      0.99      0.98       980\n",
            "           1       0.98      0.99      0.98      1135\n",
            "           2       0.98      0.94      0.96      1032\n",
            "           3       0.97      0.96      0.96      1010\n",
            "           4       0.93      0.97      0.95       982\n",
            "           5       0.95      0.96      0.95       892\n",
            "           6       0.95      0.98      0.96       958\n",
            "           7       0.96      0.96      0.96      1028\n",
            "           8       0.95      0.95      0.95       974\n",
            "           9       0.97      0.91      0.94      1009\n",
            "\n",
            "    accuracy                           0.96     10000\n",
            "   macro avg       0.96      0.96      0.96     10000\n",
            "weighted avg       0.96      0.96      0.96     10000\n",
            "\n",
            "\n",
            "Iteration:160; Test Accuracy:0.9619; Train Accuracy:0.8828852459016393\n",
            "Confusion Matrix: \n",
            " [[ 971    1    0    1    0    0    4    1    2    0]\n",
            " [   1 1121    3    2    0    2    2    1    3    0]\n",
            " [   6    3  983    8    4    0    7   13    8    0]\n",
            " [   1    0    5  971    0   16    0    8    5    4]\n",
            " [   1    1    4    0  955    0   10    1    2    8]\n",
            " [   4    1    0    5    0  860   15    2    3    2]\n",
            " [   9    3    0    0    7    6  932    0    1    0]\n",
            " [   3    8   12    4    3    1    0  990    0    7]\n",
            " [   6    3    2    9    7    8    8    4  917   10]\n",
            " [   7    4    1    3   47   12    1    9    6  919]]\n",
            "Classification metrics: \n",
            "               precision    recall  f1-score   support\n",
            "\n",
            "           0       0.96      0.99      0.98       980\n",
            "           1       0.98      0.99      0.98      1135\n",
            "           2       0.97      0.95      0.96      1032\n",
            "           3       0.97      0.96      0.96      1010\n",
            "           4       0.93      0.97      0.95       982\n",
            "           5       0.95      0.96      0.96       892\n",
            "           6       0.95      0.97      0.96       958\n",
            "           7       0.96      0.96      0.96      1028\n",
            "           8       0.97      0.94      0.95       974\n",
            "           9       0.97      0.91      0.94      1009\n",
            "\n",
            "    accuracy                           0.96     10000\n",
            "   macro avg       0.96      0.96      0.96     10000\n",
            "weighted avg       0.96      0.96      0.96     10000\n",
            "\n",
            "\n",
            "Iteration:170; Test Accuracy:0.9599; Train Accuracy:0.8850655737704918\n",
            "Confusion Matrix: \n",
            " [[ 969    1    0    1    1    0    3    2    3    0]\n",
            " [   0 1120    2    3    0    2    2    1    5    0]\n",
            " [   7    4  976    7    5    0    8   15   10    0]\n",
            " [   3    0    4  973    0   14    0    7    6    3]\n",
            " [   1    0    3    0  955    0   11    1    2    9]\n",
            " [   6    1    1    3    1  860   12    2    3    3]\n",
            " [   7    3    0    1    6    6  931    0    4    0]\n",
            " [   3    8   10    7    1    1    0  990    1    7]\n",
            " [   6    2    1    9    8    8   11    4  917    8]\n",
            " [   5    4    1    3   58   10    1    9   10  908]]\n",
            "Classification metrics: \n",
            "               precision    recall  f1-score   support\n",
            "\n",
            "           0       0.96      0.99      0.98       980\n",
            "           1       0.98      0.99      0.98      1135\n",
            "           2       0.98      0.95      0.96      1032\n",
            "           3       0.97      0.96      0.96      1010\n",
            "           4       0.92      0.97      0.95       982\n",
            "           5       0.95      0.96      0.96       892\n",
            "           6       0.95      0.97      0.96       958\n",
            "           7       0.96      0.96      0.96      1028\n",
            "           8       0.95      0.94      0.95       974\n",
            "           9       0.97      0.90      0.93      1009\n",
            "\n",
            "    accuracy                           0.96     10000\n",
            "   macro avg       0.96      0.96      0.96     10000\n",
            "weighted avg       0.96      0.96      0.96     10000\n",
            "\n",
            "\n",
            "Iteration:180; Test Accuracy:0.9628; Train Accuracy:0.8828852459016393\n",
            "Confusion Matrix: \n",
            " [[ 969    2    0    1    0    0    4    1    3    0]\n",
            " [   0 1120    2    3    0    2    2    1    5    0]\n",
            " [   7    3  980    8    4    0    7   12   11    0]\n",
            " [   2    0    4  970    0   18    0    7    5    4]\n",
            " [   1    0    3    0  958    0   12    1    2    5]\n",
            " [   3    1    1    3    0  867   10    2    3    2]\n",
            " [   7    3    0    0    6    6  933    0    3    0]\n",
            " [   2    7   11    5    2    0    0  994    1    6]\n",
            " [   5    2    2    8    8   11    7    4  920    7]\n",
            " [   5    4    1    4   49   10    1    8   10  917]]\n",
            "Classification metrics: \n",
            "               precision    recall  f1-score   support\n",
            "\n",
            "           0       0.97      0.99      0.98       980\n",
            "           1       0.98      0.99      0.98      1135\n",
            "           2       0.98      0.95      0.96      1032\n",
            "           3       0.97      0.96      0.96      1010\n",
            "           4       0.93      0.98      0.95       982\n",
            "           5       0.95      0.97      0.96       892\n",
            "           6       0.96      0.97      0.96       958\n",
            "           7       0.97      0.97      0.97      1028\n",
            "           8       0.96      0.94      0.95       974\n",
            "           9       0.97      0.91      0.94      1009\n",
            "\n",
            "    accuracy                           0.96     10000\n",
            "   macro avg       0.96      0.96      0.96     10000\n",
            "weighted avg       0.96      0.96      0.96     10000\n",
            "\n",
            "\n",
            "Iteration:190; Test Accuracy:0.9596; Train Accuracy:0.8842950819672131\n",
            "Confusion Matrix: \n",
            " [[ 970    2    0    1    0    0    4    1    2    0]\n",
            " [   1 1119    3    2    0    1    2    1    6    0]\n",
            " [   7    3  980    9    3    0    7   13   10    0]\n",
            " [   1    0    5  964    0   27    0    8    5    0]\n",
            " [   1    1    3    0  959    0    9    1    3    5]\n",
            " [   3    1    0    4    0  864   12    2    4    2]\n",
            " [   6    3    0    0    6    8  933    0    2    0]\n",
            " [   3    8   10    5    4    1    0  992    1    4]\n",
            " [   7    2    1    8    8    9    7    5  921    6]\n",
            " [   6    4    1    4   71   10    1    8   10  894]]\n",
            "Classification metrics: \n",
            "               precision    recall  f1-score   support\n",
            "\n",
            "           0       0.97      0.99      0.98       980\n",
            "           1       0.98      0.99      0.98      1135\n",
            "           2       0.98      0.95      0.96      1032\n",
            "           3       0.97      0.95      0.96      1010\n",
            "           4       0.91      0.98      0.94       982\n",
            "           5       0.94      0.97      0.95       892\n",
            "           6       0.96      0.97      0.97       958\n",
            "           7       0.96      0.96      0.96      1028\n",
            "           8       0.96      0.95      0.95       974\n",
            "           9       0.98      0.89      0.93      1009\n",
            "\n",
            "    accuracy                           0.96     10000\n",
            "   macro avg       0.96      0.96      0.96     10000\n",
            "weighted avg       0.96      0.96      0.96     10000\n",
            "\n"
          ],
          "name": "stdout"
        }
      ]
    },
    {
      "cell_type": "code",
      "metadata": {
        "id": "eHoOgODzl7_4",
        "colab_type": "code",
        "colab": {}
      },
      "source": [
        ""
      ],
      "execution_count": 0,
      "outputs": []
    }
  ]
}